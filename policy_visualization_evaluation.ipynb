{
 "cells": [
  {
   "cell_type": "code",
   "execution_count": 79,
   "metadata": {
    "collapsed": true
   },
   "outputs": [],
   "source": [
    "from envs.gridworld_contextual import TaskSettableGridworld\n",
    "from gymnasium.wrappers import TimeLimit\n",
    "from envs.contextual_env import CtxDictWrapper, ctx_visibility, exp_group\n",
    "import numpy as np\n",
    "from ray.rllib.policy.policy import Policy\n",
    "from distral.distral_ppo_torch_model import DistralCentralTorchModel, DistralTorchModel\n",
    "from ray.rllib.models import ModelCatalog\n",
    "\n",
    "from gymnasium.wrappers import  RecordVideo, RecordEpisodeStatistics\n",
    "ModelCatalog.register_custom_model(\n",
    "    \"central\",\n",
    "    DistralCentralTorchModel,\n",
    ")\n",
    "import os\n",
    "ModelCatalog.register_custom_model(\n",
    "    \"local\",\n",
    "    DistralTorchModel,\n",
    ")\n",
    "# from gymnasium.wrappers import"
   ]
  },
  {
   "cell_type": "code",
   "execution_count": 80,
   "outputs": [
    {
     "name": "stderr",
     "output_type": "stream",
     "text": [
      "/home/mohsen/anaconda3/envs/ray2.2/lib/python3.8/site-packages/gymnasium/wrappers/record_video.py:87: UserWarning: \u001B[33mWARN: Overwriting existing videos at /home/mohsen/Documents/Research/ray2.9/results/recordings folder (try specifying a different `video_folder` for the `RecordVideo` wrapper if this is not desired)\u001B[0m\n",
      "  logger.warn(\n"
     ]
    }
   ],
   "source": [
    "max_steps = 32\n",
    "ctx_mode = 0\n",
    "env_creator = lambda config: CtxDictWrapper(RecordVideo(RecordEpisodeStatistics(TimeLimit(TaskSettableGridworld(config), max_episode_steps=max_steps ), deque_size = 128),video_folder= './results/recordings/', episode_trigger=lambda x:x%16 ==0, video_length=32),\n",
    "                                            key = 'region', ctx_visible= ctx_mode\n",
    "                                         )\n",
    "learner_0 = Policy.from_checkpoint('./results/GridWorld/V10.1.5/Set0/ctx_hid/baseline/default/PPO_2x64/PPO_MADnCEnv_b16be_00000_0_grad_clip=100,seed=0_2024-01-19_11-06-24/checkpoint_000000/policies/learner_0')\n",
    "config = {'size': (7, 5),\n",
    "                            'corridor': (1, 1),\n",
    "                            'region': {0: (1, 1), 1: (-2, -2)}}\n",
    "\n",
    "env = env_creator(config)"
   ],
   "metadata": {
    "collapsed": false,
    "pycharm": {
     "name": "#%%\n"
    }
   }
  },
  {
   "cell_type": "code",
   "execution_count": 95,
   "outputs": [
    {
     "name": "stdout",
     "output_type": "stream",
     "text": [
      "[0.]\n"
     ]
    }
   ],
   "source": [
    "print(env.episode_returns)"
   ],
   "metadata": {
    "collapsed": false,
    "pycharm": {
     "name": "#%%\n"
    }
   }
  },
  {
   "cell_type": "code",
   "execution_count": 97,
   "outputs": [
    {
     "name": "stdout",
     "output_type": "stream",
     "text": [
      "-3.2546873 [array([0.], dtype=float32), array([0.], dtype=float32), array([0.], dtype=float32), array([0.], dtype=float32), array([0.], dtype=float32), array([0.], dtype=float32), array([0.], dtype=float32), array([0.], dtype=float32)] 0.0\n"
     ]
    }
   ],
   "source": [
    "success =0\n",
    "rewards = []\n",
    "for i in range(8):\n",
    "    obs = env.reset()\n",
    "    done = False\n",
    "\n",
    "    while not done:\n",
    "        # print(obs)\n",
    "        action = learner_0.compute_single_action(obs[0])\n",
    "        obs = env.step(action[0])\n",
    "        done = obs[2] or obs[3]\n",
    "        if obs[2]:\n",
    "            success+=1\n",
    "    # print(i, obs)\n",
    "    rewards.append(env.episode_returns)\n",
    "print(np.mean(env.return_queue), rewards, success/128)"
   ],
   "metadata": {
    "collapsed": false,
    "pycharm": {
     "name": "#%%\n"
    }
   }
  },
  {
   "cell_type": "code",
   "execution_count": 100,
   "outputs": [
    {
     "name": "stdout",
     "output_type": "stream",
     "text": [
      "128\n"
     ]
    }
   ],
   "source": [
    "x = np.array(env.return_queue).reshape(-1)\n",
    "print(len(x))"
   ],
   "metadata": {
    "collapsed": false,
    "pycharm": {
     "name": "#%%\n"
    }
   }
  },
  {
   "cell_type": "code",
   "execution_count": 39,
   "outputs": [],
   "source": [
    "learner_0.model.distill_out()\n",
    "dist = learner_0.dist_class(learner_0.model.distill_out())"
   ],
   "metadata": {
    "collapsed": false,
    "pycharm": {
     "name": "#%%\n"
    }
   }
  },
  {
   "cell_type": "code",
   "execution_count": 41,
   "outputs": [],
   "source": [
    "class ExperimentEvaluation():\n",
    "    def __init__(self, experiment_dir ):\n",
    "        self.log_dir = experiment_dir\n",
    "        self.experiments = None\n",
    "\n",
    "\n",
    "    def get_experiments(self):\n",
    "        #         name_map= {}\n",
    "        #         param_map ={}\n",
    "        # baselines ={}\n",
    "        results = {}\n",
    "        files_list = list()\n",
    "        experiment_sets = list()\n",
    "        for (dirpath, dirnames, filenames) in os.walk(self.log_dir):\n",
    "            files_list += [os.path.join(dirpath, file) for file in filenames if ('result.json' in file\n",
    "\n",
    "                                                                                 and not os.path.exists(\n",
    "                        os.path.join(dirpath, 'error.txt')))]\n",
    "\n",
    "        for f in files_list:\n",
    "            splts = f.split('/')\n",
    "            setup = splts[-2]\n",
    "            name = splts[-3]\n",
    "            curriculum = splts[-4]\n",
    "            learner_group = splts[-5]\n",
    "            visibility= splts[-6]\n",
    "            experiment_set = splts[-7]\n",
    "            parameters = '_'.join(setup.split('_')[5:-2])\n",
    "            # seed = int(re.search('seed=(.\\d+?),', parameters).group(1))\n",
    "            #             print(f)\n",
    "            seed = int(parameters.split('seed=')[1])\n",
    "            parameters = ','.join(parameters.split(',')[:-1])\n",
    "            # parameters = ','.join([splt[0], ] + splt[1].split(',')[1:])\n",
    "                # print(parameters)\n",
    "            # parameters = parameters.split('min_sample')[0]\n",
    "            if experiment_set not in experiment_sets:\n",
    "                experiment_sets.append(experiment_set)\n",
    "            if parameters:\n",
    "                if parameters[-1] == ',':\n",
    "                    parameters = parameters[:-1]\n",
    "\n",
    "                parameters = parameters.replace('distral_', '')\n",
    "                parameters = parameters.replace(',,', ',')\n",
    "            experiment_id = ( experiment_set, visibility,learner_group, curriculum, name, parameters)\n",
    "            # print(experiment_id)\n",
    "            if experiment_id in results:\n",
    "                # if parameters in results[name]['config']:\n",
    "                results[experiment_id]['files'].append(f)\n",
    "                results[experiment_id]['seeds'].append(seed)\n",
    "\n",
    "            else:\n",
    "                results[experiment_id] = {'files': [f, ], 'seeds': [seed, ], 'exp_dir': }\n",
    "                # results[name]['config'].append(parameters)\n",
    "            #                 results[name]['learner'] =\n",
    "            #                 results[name]['curriculum'] = name.split('_')[1]\n",
    "            #                 results[name]['context_visible'] = 'ctxvis' in name\n",
    "\n",
    "            # else:\n",
    "            #     results[name] = {parameters: {'files': [f, ], 'seeds': [seed, ]},\n",
    "            #                      'config': [parameters, ],\n",
    "            #                      'learner': name.split('_')[0],\n",
    "            #                      'curriculum': name.split('_')[1],\n",
    "            #                      'context_visible': 'ctxvis' in name}\n",
    "\n",
    "        self.experiment_sets = experiment_sets\n",
    "        return results"
   ],
   "metadata": {
    "collapsed": false,
    "pycharm": {
     "name": "#%%\n"
    }
   }
  },
  {
   "cell_type": "code",
   "execution_count": 48,
   "outputs": [],
   "source": [
    "dir = './results/GridWorld/V10.1.5'\n",
    "\n",
    "ev = ExperimentEvaluation(experiment_dir=dir)"
   ],
   "metadata": {
    "collapsed": false,
    "pycharm": {
     "name": "#%%\n"
    }
   }
  },
  {
   "cell_type": "code",
   "execution_count": 102,
   "outputs": [
    {
     "name": "stdout",
     "output_type": "stream",
     "text": [
      "['checkpoint_000004', 'checkpoint_000003', 'checkpoint_000002', 'checkpoint_000001', 'checkpoint_000000']\n"
     ]
    }
   ],
   "source": [
    "\n",
    "trial_dir = './results/GridWorld/V10.1.5/Set0/ctx_hid/baseline/default/PPO_Central_2x64/PPO_MADnCEnv_54171_00009_9_grad_clip=100,seed=9_2024-01-19_12-08-13/'\n",
    "chk = next(os.walk(trial_dir))[1]\n",
    "chk.sort(reverse= True)\n",
    "policies = next(os.walk(os.path.join(trial_dir, chk[0],'policies')))[1]\n",
    "policies.sort()\n",
    "\n",
    "print(chk)\n",
    "\n",
    "# for (path_, dirs, fnames ) in os.walk(dir):\n",
    "#\n",
    "#     if 'checkpoint' in path_:\n",
    "#         print( path_)\n",
    "\n"
   ],
   "metadata": {
    "collapsed": false,
    "pycharm": {
     "name": "#%%\n"
    }
   }
  },
  {
   "cell_type": "code",
   "execution_count": 67,
   "outputs": [],
   "source": [
    "import json\n",
    "with open(os.path.join(trial_dir, 'params.json'), 'r') as f:\n",
    "    data = json.load(f)['env_config']"
   ],
   "metadata": {
    "collapsed": false,
    "pycharm": {
     "name": "#%%\n"
    }
   }
  },
  {
   "cell_type": "code",
   "execution_count": 68,
   "outputs": [
    {
     "data": {
      "text/plain": "{'agent_config': [{'corridor': [1, 1],\n   'region': {'0': [1, 1], '1': [-2, -2]},\n   'size': [7, 5]},\n  {'corridor': [1, 1], 'region': {'0': [1, 1], '1': [-2, -2]}, 'size': [7, 5]},\n  {'corridor': [1, 1], 'region': {'0': [1, 1], '1': [3, 1]}, 'size': [7, 5]},\n  {'corridor': [1, 1], 'region': {'0': [3, 1], '1': [3, 3]}, 'size': [7, 5]},\n  {'corridor': [1, 1], 'region': {'0': [3, 3], '1': [5, 3]}, 'size': [7, 5]}],\n 'non_training_envs': 1,\n 'num_agents': 5}"
     },
     "execution_count": 68,
     "metadata": {},
     "output_type": "execute_result"
    }
   ],
   "source": [
    "data"
   ],
   "metadata": {
    "collapsed": false,
    "pycharm": {
     "name": "#%%\n"
    }
   }
  },
  {
   "cell_type": "code",
   "execution_count": null,
   "outputs": [],
   "source": [],
   "metadata": {
    "collapsed": false,
    "pycharm": {
     "name": "#%%\n"
    }
   }
  },
  {
   "cell_type": "code",
   "execution_count": null,
   "outputs": [],
   "source": [],
   "metadata": {
    "collapsed": false,
    "pycharm": {
     "name": "#%%\n"
    }
   }
  }
 ],
 "metadata": {
  "kernelspec": {
   "display_name": "Python 3",
   "language": "python",
   "name": "python3"
  },
  "language_info": {
   "codemirror_mode": {
    "name": "ipython",
    "version": 2
   },
   "file_extension": ".py",
   "mimetype": "text/x-python",
   "name": "python",
   "nbconvert_exporter": "python",
   "pygments_lexer": "ipython2",
   "version": "2.7.6"
  }
 },
 "nbformat": 4,
 "nbformat_minor": 0
}